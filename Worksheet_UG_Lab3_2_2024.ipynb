{
 "cells": [
  {
   "cell_type": "markdown",
   "id": "1533bd8e",
   "metadata": {},
   "source": [
    "Names: Ben Farris, Janesha Rai, Jordana McEachern, Jalena Bennett"
   ]
  },
  {
   "cell_type": "code",
   "execution_count": 2,
   "id": "8be05185",
   "metadata": {},
   "outputs": [],
   "source": [
    "# your import statements\n",
    "import numpy as np\n",
    "import matplotlib.pyplot as plt"
   ]
  },
  {
   "cell_type": "markdown",
   "id": "c17b4ce4",
   "metadata": {},
   "source": [
    "Consider a long hallway (length $L$) in an office building. If we assume that any\n",
    "cigarette smoke mixes across the width of the hallway and vertically\n",
    "through the depth of the hallway much faster than it mixes along the\n",
    "hallway, we can write the diffusion of cigarette smoke as an equation\n",
    "$$\\frac {\\partial S} {\\partial t}\n",
    "= \\frac {\\partial \\kappa \\partial S}{\\partial x^2}$$\n",
    "where $S$ is the concentration of smoke, $\\kappa$ is the rate of diffusion of\n",
    "smoke, t is the time and x is\n",
    "distance along the hallway.  At the centre of the hallway is the smoker and here the smoke is 5 su (smoke units).  At one end of the hallway (x=0) is an open window, here the smoke is 0. At the other end of the hallway (x=L) is a closed window (no smoke through the closed window)."
   ]
  },
  {
   "cell_type": "markdown",
   "id": "9eb3d006",
   "metadata": {},
   "source": [
    "**Question 1**\n",
    "\n",
    "Under what conditions can you move $\\kappa$ outside the derivative?  Make that assumption here, and also make the steady state assumption.  What is your new differential equation?"
   ]
  },
  {
   "cell_type": "markdown",
   "id": "5f110569",
   "metadata": {},
   "source": [
    "Here we assume that dS/dt = 0, and if k is not dependent on x, then we can move it out of the derivative. In that case, the DE becomes k*d^2S/dx^2 = 0"
   ]
  },
  {
   "cell_type": "markdown",
   "id": "ace733e0",
   "metadata": {},
   "source": [
    "**Question 2**\n",
    "\n",
    "Using a centre-difference scheme, separating your hallway into $N=10$ divisions (so $N+1=11$ grid points) write down linear equations for the 1th to $N/2-1=4$th grid points and the $N/2+1=6$th to $N-1=9$th grid points. Note that the 0th and $N=10$th grid points are boundary points and there is a special condition at the $N/2=5$th grid point."
   ]
  },
  {
   "cell_type": "markdown",
   "id": "b0f3282e",
   "metadata": {},
   "source": [
    "For 1<=N<=4:\n",
    "  \n",
    "N1: S2 - 2*S1 + S0 = 0  \n",
    "N2: S3 - 2*S2 + S1 = 0  \n",
    "N3: S4 - 2*S3 + S2 = 0  \n",
    "N4: S5 - 2*S4 + S3 = 0  \n",
    "\n",
    "For 6<=N<=9:  \n",
    "N6: S7 - 2*S6 + S5 = 0  \n",
    "N7: S8 - 2*S7 + S6 = 0  \n",
    "N8: S9 - 2*S8 + S7 = 0  \n",
    "N9: S10 - 2*S9 + S8 = 0  "
   ]
  },
  {
   "cell_type": "markdown",
   "id": "6bcb3435",
   "metadata": {},
   "source": [
    "**Question 3**\n",
    "\n",
    "What type of boundary condition is at $x=0$ (0th grid point)?  Write it as linear equation."
   ]
  },
  {
   "cell_type": "markdown",
   "id": "1abcc6cf",
   "metadata": {},
   "source": [
    "Dirichlet BC  \n",
    "S0 = 0"
   ]
  },
  {
   "cell_type": "markdown",
   "id": "305884ee",
   "metadata": {},
   "source": [
    "**Question 4**\n",
    "\n",
    "What type of boundary condition is at $x=L$ (N=10th grid point)?  Write it as linear equation."
   ]
  },
  {
   "cell_type": "markdown",
   "id": "9f3f791b",
   "metadata": {},
   "source": [
    "Neumann BC  \n",
    "S10 - S9 = 0"
   ]
  },
  {
   "cell_type": "markdown",
   "id": "3ffd3078",
   "metadata": {},
   "source": [
    "**Question 5**\n",
    "\n",
    "Consider the condition at the centre of the hallway ($x=L/2$, $N/2=5$th grid point) Write it as linear equation."
   ]
  },
  {
   "cell_type": "markdown",
   "id": "648910b3",
   "metadata": {},
   "source": [
    "S5 = 5"
   ]
  },
  {
   "cell_type": "markdown",
   "id": "68450247",
   "metadata": {},
   "source": [
    "**Question 6**\n",
    "\n",
    "Put all your equations into a matrix equation and solve the matrix equation.  Plot the solution."
   ]
  },
  {
   "cell_type": "code",
   "execution_count": 18,
   "id": "577152a7",
   "metadata": {},
   "outputs": [
    {
     "data": {
      "text/plain": [
       "Text(0, 0.5, 'Smoke units')"
      ]
     },
     "execution_count": 18,
     "metadata": {},
     "output_type": "execute_result"
    },
    {
     "data": {
      "image/png": "[encoded data removed]",
      "text/plain": [
       "<Figure size 640x480 with 1 Axes>"
      ]
     },
     "metadata": {},
     "output_type": "display_data"
    }
   ],
   "source": [
    "def matrix_N(n):\n",
    "    matrix = np.zeros((n,n))\n",
    "    matrix[-1][-1]=1\n",
    "    matrix[0][0]=1\n",
    "    for i in range(n-2):\n",
    "        matrix[i+1][i]=1\n",
    "        matrix[i+1][i+1]=-2\n",
    "        matrix[i+1][i+2]=1\n",
    "    return matrix\n",
    "\n",
    "mat = matrix_N(11)\n",
    "mat[-1][-2] = -1\n",
    "mat[5][5] = 1\n",
    "mat[5][4] = 0\n",
    "mat[5][6] = 0\n",
    "b = np.zeros((11,1))\n",
    "b[5] = 5\n",
    "s = np.linalg.solve(mat, b)\n",
    "x = np.arange(0,11,1)\n",
    "plt.plot(x,s)\n",
    "plt.title(\"Smoke quantity vs position\")\n",
    "plt.xlabel(\"Position (units)\")\n",
    "plt.ylabel(\"Smoke units\")"
   ]
  },
  {
   "cell_type": "code",
   "execution_count": null,
   "id": "56d3c29c-3783-42a6-9924-45ab44d4f7a1",
   "metadata": {},
   "outputs": [],
   "source": []
  }
 ],
 "metadata": {
  "kernelspec": {
   "display_name": "Python 3 (ipykernel)",
   "language": "python",
   "name": "python3"
  },
  "language_info": {
   "codemirror_mode": {
    "name": "ipython",
    "version": 3
   },
   "file_extension": ".py",
   "mimetype": "text/x-python",
   "name": "python",
   "nbconvert_exporter": "python",
   "pygments_lexer": "ipython3",
   "version": "3.12.1"
  }
 },
 "nbformat": 4,
 "nbformat_minor": 5
}
