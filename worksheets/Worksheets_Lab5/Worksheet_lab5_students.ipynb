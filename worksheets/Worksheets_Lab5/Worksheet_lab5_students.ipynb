{
 "cells": [
  {
   "cell_type": "markdown",
   "id": "75703414",
   "metadata": {},
   "source": [
    "Names:"
   ]
  },
  {
   "cell_type": "code",
   "execution_count": 1,
   "id": "5cc4519f-da86-4606-b918-b54494f500a4",
   "metadata": {},
   "outputs": [],
   "source": [
    "# your import statements\n"
   ]
  },
  {
   "cell_type": "markdown",
   "id": "9565454a-9728-472d-82ed-95ed9b942a62",
   "metadata": {},
   "source": [
    "# WorkSheet Instructions ##\n",
    "\n",
    "Before you begin you should have read and worked through Lab 5.\n",
    "\n",
    " I recommend that you do this worksheet in a python\n",
    "  notebook and share screen.  This method does mean one person will do the typing.  When complete, print or Latex to pdf and upload to CANVAS.\n",
    "\n",
    "This question is based on the adaptive timestep in Runge-Kutta section on Lab 5. The Runge-Kutta algorithm with adaptive time steps will, in general, be more efficient and accurate than the same algorithm with fixed time steps. In other words, greater accuracy can usually be achieved in fewer time steps.\n",
    "\n",
    "  "
   ]
  },
  {
   "cell_type": "markdown",
   "id": "605916df-bccb-40e6-a50f-9f3b41733702",
   "metadata": {},
   "source": [
    "For the given set of Daisyworld parameters and initial conditions in adapt_worksheet.yaml:"
   ]
  },
  {
   "cell_type": "markdown",
   "id": "a7ec6357-aedc-4130-ac48-74800d180325",
   "metadata": {},
   "source": [
    "## Question A ###\n",
    "Decrease the error tolerances for the adaptive timestep Runge-Kutta and compare the plots. Compare to the solutions for the algorithm with fixed timesteps. What do you see as the error tolerances are decreased?  You will note that as the error tolerances are decreased, the plots approach the one created by the algorithm with fixed time steps. What does this imply?\n"
   ]
  },
  {
   "cell_type": "markdown",
   "id": "7c6ff79d-66ef-4c68-8293-cde5fb2f3291",
   "metadata": {},
   "source": [
    "## Question B ###  \n",
    "Compare the Daisyworld plot to a plot of the stepsizes. Do you see a correlation between stepsize and the shape of the curve?\n"
   ]
  },
  {
   "cell_type": "markdown",
   "id": "3419eace",
   "metadata": {
    "ExecuteTime": {
     "end_time": "2022-02-14T19:30:56.704203Z",
     "start_time": "2022-02-14T19:30:56.674996Z"
    }
   },
   "source": [
    "## Question C ###  \n",
    "Change the tolerances and see where you would set the tolerance to get (roughly) the same plot as the fixed timestep solution, but in the fewest time steps. Calculate the difference in timesteps between the fixed and adaptive solutions. Work out (by \"hand\") roughly how much computational time the adaptive timestep algorithm has saved with your chosen tolerance if the algorithm uses a. step doubling, and b. an embedded Runge-Kutta. What is the optimal tolerance value for both accuracy and time efficiency?"
   ]
  },
  {
   "cell_type": "code",
   "execution_count": null,
   "id": "7864c275",
   "metadata": {},
   "outputs": [],
   "source": []
  }
 ],
 "metadata": {
  "kernelspec": {
   "display_name": "Python 3 (ipykernel)",
   "language": "python",
   "name": "python3"
  },
  "language_info": {
   "codemirror_mode": {
    "name": "ipython",
    "version": 3
   },
   "file_extension": ".py",
   "mimetype": "text/x-python",
   "name": "python",
   "nbconvert_exporter": "python",
   "pygments_lexer": "ipython3",
   "version": "3.12.1"
  },
  "toc": {
   "base_numbering": 1,
   "nav_menu": {},
   "number_sections": true,
   "sideBar": true,
   "skip_h1_title": false,
   "title_cell": "Table of Contents",
   "title_sidebar": "Contents",
   "toc_cell": false,
   "toc_position": {},
   "toc_section_display": true,
   "toc_window_display": true
  }
 },
 "nbformat": 4,
 "nbformat_minor": 5
}
